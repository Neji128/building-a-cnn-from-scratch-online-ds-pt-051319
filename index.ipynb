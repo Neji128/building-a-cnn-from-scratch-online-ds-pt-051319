{
 "cells": [
  {
   "cell_type": "markdown",
   "metadata": {},
   "source": [
    "# Building a CNN from Scratch - Lab\n",
    "\n",
    "## Introduction\n",
    "\n",
    "Now that you have background knowledge regarding how CNNs work and how to build them using Keras, its time to practice those skills a little more independently in order to build a CNN on your own to solve a image recognition problem. In this lab, you'll practice building an image classifier from start to finish using a CNN.  \n",
    "\n",
    "## Objectives\n",
    "\n",
    "In this lab you will: \n",
    "\n",
    "- Load images from a hierarchical file structure using an image datagenerator \n",
    "- Apply data augmentation to image files before training a neural network \n",
    "- Build a CNN using Keras \n",
    "- Visualize and evaluate the performance of CNN models \n",
    "\n",
    "## Loading the Images\n",
    "\n",
    "The data for this lab concerns lung xray images for pneumonia. The original dataset is from Kaggle. We have downsampled this dataset in order to reduce training time for you when you design and fit your model to the data. ⏰ It is anticipated that this process will take approximately one hour to run on a standard machine, although times will vary depending on your particular computer and set up. At the end of this lab, you are welcome to try training on the complete dataset and observe the impact on the model's overall accuracy. \n",
    "\n",
    "You can find the initial downsampled dataset in a subdirectory, **chest_xray**, of this repository. "
   ]
  },
  {
   "cell_type": "code",
   "execution_count": 1,
   "metadata": {},
   "outputs": [
    {
     "name": "stderr",
     "output_type": "stream",
     "text": [
      "Using TensorFlow backend.\n"
     ]
    }
   ],
   "source": [
    "from keras.preprocessing.image import ImageDataGenerator\n",
    "import datetime\n",
    "\n",
    "original_start = datetime.datetime.now()\n",
    "start = datetime.datetime.now()"
   ]
  },
  {
   "cell_type": "code",
   "execution_count": 2,
   "metadata": {},
   "outputs": [
    {
     "name": "stdout",
     "output_type": "stream",
     "text": [
      "Found 1738 images belonging to 2 classes.\n",
      "Found 4 images belonging to 2 classes.\n"
     ]
    }
   ],
   "source": [
    "train_dir = 'chest_xray_downsampled/train'\n",
    "validation_dir = 'chest_xray_downsampled/val/'\n",
    "test_dir = 'chest_xray_downsampled/test/' \n",
    "\n",
    "# rescaling images\n",
    "train_datagen = ImageDataGenerator(rescale=1./255)\n",
    "test_datagen = ImageDataGenerator(rescale=1./255)\n",
    "\n",
    "train_generator = train_datagen.flow_from_directory(        \n",
    "        train_dir,\n",
    "        target_size=(150, 150),\n",
    "        batch_size=20,\n",
    "        class_mode='binary')\n",
    "\n",
    "validation_generator = test_datagen.flow_from_directory(validation_dir,\n",
    "                                                        target_size=(150, 150),\n",
    "                                                        batch_size=20,\n",
    "                                                        class_mode='binary')"
   ]
  },
  {
   "cell_type": "markdown",
   "metadata": {},
   "source": [
    "## Designing the Model\n",
    "\n",
    "Now it's time to design your CNN using Keras! Remember a few things when doing this: \n",
    "\n",
    "- You should alternate convolutional and pooling layers\n",
    "- You should have later layers have a larger number of parameters in order to detect more abstract patterns\n",
    "- Add some final dense layers to add a classifier to the convolutional base \n",
    "- Compile this model "
   ]
  },
  {
   "cell_type": "code",
   "execution_count": 3,
   "metadata": {},
   "outputs": [],
   "source": [
    "from keras import layers\n",
    "from keras import models\n",
    "\n",
    "model = models.Sequential()\n",
    "model.add(layers.Conv2D(32, (3, 3), activation='relu',\n",
    "                        input_shape=(150, 150, 3)))\n",
    "model.add(layers.MaxPooling2D((2, 2)))\n",
    "model.add(layers.Conv2D(64, (3, 3), activation='relu'))\n",
    "model.add(layers.MaxPooling2D((2, 2)))\n",
    "model.add(layers.Conv2D(128, (3, 3), activation='relu'))\n",
    "model.add(layers.MaxPooling2D((2, 2)))\n",
    "model.add(layers.Conv2D(128, (3, 3), activation='relu'))\n",
    "model.add(layers.MaxPooling2D((2, 2)))\n",
    "model.add(layers.Flatten())\n",
    "model.add(layers.Dense(512, activation='relu'))\n",
    "model.add(layers.Dense(1, activation='sigmoid'))"
   ]
  },
  {
   "cell_type": "code",
   "execution_count": 4,
   "metadata": {},
   "outputs": [],
   "source": [
    "from keras import optimizers\n",
    "\n",
    "model.compile(loss='binary_crossentropy',\n",
    "              optimizer=optimizers.RMSprop(lr=1e-4),\n",
    "              metrics=['acc'])"
   ]
  },
  {
   "cell_type": "markdown",
   "metadata": {},
   "source": [
    "## Training and Evaluating the Model\n",
    "\n",
    "Remember that training deep networks is resource intensive: depending on the size of the data, even a CNN with 3-4 successive convolutional and pooling layers is apt to take a hours to train on a high end laptop. Using 30 epochs and 8 layers (alternating between convolutional and pooling), our model took about 40 minutes to run on a year old macbook pro.\n",
    "\n",
    "\n",
    "If you are concerned with runtime, you may want to set your model to run the training epochs overnight.  \n",
    "\n",
    "**If you are going to run this process overnight, be sure to also script code for the following questions concerning data augmentation. Check your code twice (or more) and then set the notebook to run all, or something equivalent to have them train overnight.** "
   ]
  },
  {
   "cell_type": "code",
   "execution_count": 5,
   "metadata": {},
   "outputs": [
    {
     "name": "stdout",
     "output_type": "stream",
     "text": [
      "Epoch 1/30\n",
      "100/100 [==============================] - 137s 1s/step - loss: 0.4781 - acc: 0.7888 - val_loss: 0.6501 - val_acc: 0.5000\n",
      "Epoch 2/30\n",
      "100/100 [==============================] - 124s 1s/step - loss: 0.2646 - acc: 0.8940 - val_loss: 1.1109 - val_acc: 0.7500\n",
      "Epoch 3/30\n",
      "100/100 [==============================] - 131s 1s/step - loss: 0.1751 - acc: 0.9279 - val_loss: 2.4420 - val_acc: 0.5000\n",
      "Epoch 4/30\n",
      "100/100 [==============================] - 133s 1s/step - loss: 0.1472 - acc: 0.9419 - val_loss: 1.0687 - val_acc: 0.7500\n",
      "Epoch 5/30\n",
      "100/100 [==============================] - 140s 1s/step - loss: 0.1164 - acc: 0.9545 - val_loss: 1.1732 - val_acc: 0.7500\n",
      "Epoch 6/30\n",
      "100/100 [==============================] - 136s 1s/step - loss: 0.1013 - acc: 0.9619 - val_loss: 2.0191 - val_acc: 0.5000\n",
      "Epoch 7/30\n",
      "100/100 [==============================] - 127s 1s/step - loss: 0.0898 - acc: 0.9684 - val_loss: 0.9115 - val_acc: 0.5000\n",
      "Epoch 8/30\n",
      "100/100 [==============================] - 121s 1s/step - loss: 0.0759 - acc: 0.9710 - val_loss: 0.8375 - val_acc: 0.7500\n",
      "Epoch 9/30\n",
      "100/100 [==============================] - 114s 1s/step - loss: 0.0673 - acc: 0.9739 - val_loss: 1.4598 - val_acc: 0.5000\n",
      "Epoch 10/30\n",
      "100/100 [==============================] - 142s 1s/step - loss: 0.0658 - acc: 0.9749 - val_loss: 1.1235 - val_acc: 0.7500\n",
      "Epoch 11/30\n",
      "100/100 [==============================] - 176s 2s/step - loss: 0.0525 - acc: 0.9805 - val_loss: 1.2385 - val_acc: 0.7500\n",
      "Epoch 12/30\n",
      "100/100 [==============================] - 178s 2s/step - loss: 0.0507 - acc: 0.9790 - val_loss: 1.0199 - val_acc: 0.7500\n",
      "Epoch 13/30\n",
      "100/100 [==============================] - 185s 2s/step - loss: 0.0475 - acc: 0.9805 - val_loss: 1.5128 - val_acc: 0.7500\n",
      "Epoch 14/30\n",
      "100/100 [==============================] - 193s 2s/step - loss: 0.0370 - acc: 0.9885 - val_loss: 1.1742 - val_acc: 0.5000\n",
      "Epoch 15/30\n",
      "100/100 [==============================] - 202s 2s/step - loss: 0.0354 - acc: 0.9875 - val_loss: 1.6715 - val_acc: 0.7500\n",
      "Epoch 16/30\n",
      "100/100 [==============================] - 177s 2s/step - loss: 0.0297 - acc: 0.9889 - val_loss: 1.4574 - val_acc: 0.7500\n",
      "Epoch 17/30\n",
      "100/100 [==============================] - 179s 2s/step - loss: 0.0236 - acc: 0.9915 - val_loss: 1.8265 - val_acc: 0.7500\n",
      "Epoch 18/30\n",
      "100/100 [==============================] - 189s 2s/step - loss: 0.0223 - acc: 0.9920 - val_loss: 1.2052 - val_acc: 0.7500\n",
      "Epoch 19/30\n",
      "100/100 [==============================] - 180s 2s/step - loss: 0.0269 - acc: 0.9940 - val_loss: 1.2743 - val_acc: 0.7500\n",
      "Epoch 20/30\n",
      "100/100 [==============================] - 159s 2s/step - loss: 0.0163 - acc: 0.9970 - val_loss: 1.8431 - val_acc: 0.5000\n",
      "Epoch 21/30\n",
      "100/100 [==============================] - 169s 2s/step - loss: 0.0100 - acc: 0.9975 - val_loss: 2.5473 - val_acc: 0.7500\n",
      "Epoch 22/30\n",
      "100/100 [==============================] - 184s 2s/step - loss: 0.0156 - acc: 0.9960 - val_loss: 1.5230 - val_acc: 0.7500\n",
      "Epoch 23/30\n",
      "100/100 [==============================] - 201s 2s/step - loss: 0.0076 - acc: 0.9980 - val_loss: 2.3900 - val_acc: 0.7500\n",
      "Epoch 24/30\n",
      "100/100 [==============================] - 169s 2s/step - loss: 0.0077 - acc: 0.9979 - val_loss: 0.8879 - val_acc: 0.7500\n",
      "Epoch 25/30\n",
      "100/100 [==============================] - 175s 2s/step - loss: 0.0082 - acc: 0.9975 - val_loss: 1.6689 - val_acc: 0.7500\n",
      "Epoch 26/30\n",
      "100/100 [==============================] - 169s 2s/step - loss: 0.0072 - acc: 0.9975 - val_loss: 0.9228 - val_acc: 0.7500\n",
      "Epoch 27/30\n",
      "100/100 [==============================] - 162s 2s/step - loss: 0.0067 - acc: 0.9980 - val_loss: 1.4125 - val_acc: 0.7500\n",
      "Epoch 28/30\n",
      "100/100 [==============================] - 133s 1s/step - loss: 0.0047 - acc: 0.9980 - val_loss: 2.6428 - val_acc: 0.7500\n",
      "Epoch 29/30\n",
      "100/100 [==============================] - 128s 1s/step - loss: 0.0088 - acc: 0.9990 - val_loss: 2.9299 - val_acc: 0.7500\n",
      "Epoch 30/30\n",
      "100/100 [==============================] - 128s 1s/step - loss: 0.0051 - acc: 0.9980 - val_loss: 4.9687 - val_acc: 0.5000\n"
     ]
    }
   ],
   "source": [
    "history = model.fit_generator(train_generator, \n",
    "                              steps_per_epoch=100, \n",
    "                              epochs=30, \n",
    "                              validation_data=validation_generator, \n",
    "                              validation_steps=50)"
   ]
  },
  {
   "cell_type": "code",
   "execution_count": 6,
   "metadata": {},
   "outputs": [
    {
     "data": {
      "image/png": "[encoded data removed]",
      "text/plain": [
       "<Figure size 432x288 with 1 Axes>"
      ]
     },
     "metadata": {
      "needs_background": "light"
     },
     "output_type": "display_data"
    },
    {
     "data": {
      "image/png": "[encoded data removed]",
      "text/plain": [
       "<Figure size 432x288 with 1 Axes>"
      ]
     },
     "metadata": {
      "needs_background": "light"
     },
     "output_type": "display_data"
    }
   ],
   "source": [
    "# Plot history\n",
    "import matplotlib.pyplot as plt\n",
    "%matplotlib inline\n",
    "\n",
    "acc = history.history['acc']\n",
    "val_acc = history.history['val_acc']\n",
    "loss = history.history['loss']\n",
    "val_loss = history.history['val_loss']\n",
    "epochs = range(len(acc))\n",
    "plt.plot(epochs, acc, 'bo', label='Training acc')\n",
    "plt.plot(epochs, val_acc, 'b', label='Validation acc')\n",
    "plt.title('Training and validation accuracy')\n",
    "plt.legend()\n",
    "plt.figure()\n",
    "plt.plot(epochs, loss, 'bo', label='Training loss')\n",
    "plt.plot(epochs, val_loss, 'b', label='Validation loss')\n",
    "plt.title('Training and validation loss')\n",
    "plt.legend()\n",
    "plt.show()"
   ]
  },
  {
   "cell_type": "code",
   "execution_count": 7,
   "metadata": {},
   "outputs": [
    {
     "name": "stdout",
     "output_type": "stream",
     "text": [
      "Training took a total of 1:28:54.338441\n"
     ]
    }
   ],
   "source": [
    "end = datetime.datetime.now()\n",
    "elapsed = end - start\n",
    "print('Training took a total of {}'.format(elapsed))"
   ]
  },
  {
   "cell_type": "markdown",
   "metadata": {},
   "source": [
    "## Save the Model"
   ]
  },
  {
   "cell_type": "code",
   "execution_count": 8,
   "metadata": {},
   "outputs": [],
   "source": [
    "model.save('chest_xray_downsampled_data.h5')"
   ]
  },
  {
   "cell_type": "markdown",
   "metadata": {},
   "source": [
    "## Data Augmentation\n",
    "\n",
    "Recall that data augmentation is typically always a necessary step when using a small dataset as this one which you have been provided. As such, if you haven't already, implement a data augmentation setup.\n",
    "\n",
    "**Warning: ⏰ This process took nearly 4 hours to run on a relatively new macbook pro. As such, it is recommended that you simply code the setup and compare to the solution branch, or set the process to run overnight if you do choose to actually run the code.** "
   ]
  },
  {
   "cell_type": "code",
   "execution_count": null,
   "metadata": {},
   "outputs": [],
   "source": [
    "start = datetime.datetime.now()"
   ]
  },
  {
   "cell_type": "markdown",
   "metadata": {},
   "source": [
    "Save the model for future reference.  "
   ]
  },
  {
   "cell_type": "code",
   "execution_count": 9,
   "metadata": {},
   "outputs": [
    {
     "name": "stdout",
     "output_type": "stream",
     "text": [
      "Found 1738 images belonging to 2 classes.\n",
      "Found 4 images belonging to 2 classes.\n",
      "Epoch 1/100\n",
      "100/100 [==============================] - 203s 2s/step - loss: 3.9874 - acc: 0.7501 - val_loss: 3.3393 - val_acc: 0.7500\n",
      "Epoch 2/100\n",
      "100/100 [==============================] - 193s 2s/step - loss: 3.6963 - acc: 0.7682 - val_loss: 3.2990 - val_acc: 0.7500\n",
      "Epoch 3/100\n",
      "100/100 [==============================] - 182s 2s/step - loss: 4.0270 - acc: 0.7476 - val_loss: 1.0742 - val_acc: 0.7500\n",
      "Epoch 4/100\n",
      "100/100 [==============================] - 179s 2s/step - loss: 4.5097 - acc: 0.7174 - val_loss: 0.6950 - val_acc: 0.7500\n",
      "Epoch 5/100\n",
      "100/100 [==============================] - 177s 2s/step - loss: 3.9395 - acc: 0.7529 - val_loss: 3.2092 - val_acc: 0.5000\n",
      "Epoch 6/100\n",
      "100/100 [==============================] - 176s 2s/step - loss: 3.8818 - acc: 0.7566 - val_loss: 7.3500 - val_acc: 0.5000\n",
      "Epoch 7/100\n",
      "100/100 [==============================] - 175s 2s/step - loss: 4.0290 - acc: 0.7474 - val_loss: 7.3500 - val_acc: 0.5000\n",
      "Epoch 8/100\n",
      "100/100 [==============================] - 176s 2s/step - loss: 3.9704 - acc: 0.7512 - val_loss: 3.9787 - val_acc: 0.5000\n",
      "Epoch 9/100\n",
      "100/100 [==============================] - 174s 2s/step - loss: 3.8537 - acc: 0.7579 - val_loss: 7.9712 - val_acc: 0.5000\n",
      "Epoch 10/100\n",
      "100/100 [==============================] - 171s 2s/step - loss: 4.1445 - acc: 0.7400 - val_loss: 7.9712 - val_acc: 0.5000\n",
      "Epoch 11/100\n",
      "100/100 [==============================] - 173s 2s/step - loss: 4.0326 - acc: 0.7471 - val_loss: 7.9712 - val_acc: 0.5000\n",
      "Epoch 12/100\n",
      "100/100 [==============================] - 175s 2s/step - loss: 4.0903 - acc: 0.7434 - val_loss: 7.9712 - val_acc: 0.5000\n",
      "Epoch 13/100\n",
      "100/100 [==============================] - 174s 2s/step - loss: 4.1087 - acc: 0.7423 - val_loss: 7.9712 - val_acc: 0.5000\n",
      "Epoch 14/100\n",
      "100/100 [==============================] - 172s 2s/step - loss: 4.0455 - acc: 0.7462 - val_loss: 7.9712 - val_acc: 0.5000\n",
      "Epoch 15/100\n",
      "100/100 [==============================] - 172s 2s/step - loss: 4.1670 - acc: 0.7386 - val_loss: 7.9712 - val_acc: 0.5000\n",
      "Epoch 16/100\n",
      "100/100 [==============================] - 171s 2s/step - loss: 4.0730 - acc: 0.7445 - val_loss: 7.9712 - val_acc: 0.5000\n",
      "Epoch 17/100\n",
      "100/100 [==============================] - 171s 2s/step - loss: 4.1443 - acc: 0.7401 - val_loss: 7.9712 - val_acc: 0.5000\n",
      "Epoch 18/100\n",
      "100/100 [==============================] - 170s 2s/step - loss: 4.0595 - acc: 0.7454 - val_loss: 7.9712 - val_acc: 0.5000\n",
      "Epoch 19/100\n",
      "100/100 [==============================] - 171s 2s/step - loss: 3.9902 - acc: 0.7495 - val_loss: 7.7979 - val_acc: 0.5000\n",
      "Epoch 20/100\n",
      "100/100 [==============================] - 173s 2s/step - loss: 3.8540 - acc: 0.7583 - val_loss: 7.9712 - val_acc: 0.5000\n",
      "Epoch 21/100\n",
      "100/100 [==============================] - 169s 2s/step - loss: 6.6244 - acc: 0.5873 - val_loss: 1.4288 - val_acc: 0.5000\n",
      "Epoch 22/100\n",
      "100/100 [==============================] - 169s 2s/step - loss: 3.9881 - acc: 0.7501 - val_loss: 7.2101 - val_acc: 0.5000\n",
      "Epoch 23/100\n",
      "100/100 [==============================] - 171s 2s/step - loss: 4.0282 - acc: 0.7476 - val_loss: 2.6579 - val_acc: 0.5000\n",
      "Epoch 24/100\n",
      "100/100 [==============================] - 170s 2s/step - loss: 3.9183 - acc: 0.7548 - val_loss: 0.1292 - val_acc: 1.0000\n",
      "Epoch 25/100\n",
      "100/100 [==============================] - 167s 2s/step - loss: 3.8015 - acc: 0.7617 - val_loss: 2.1041 - val_acc: 0.7500\n",
      "Epoch 26/100\n",
      "100/100 [==============================] - 173s 2s/step - loss: 3.7443 - acc: 0.7651 - val_loss: 1.1385 - val_acc: 0.7500\n",
      "Epoch 27/100\n",
      "100/100 [==============================] - 170s 2s/step - loss: 3.6182 - acc: 0.7733 - val_loss: 2.0980 - val_acc: 0.7500\n",
      "Epoch 28/100\n",
      "100/100 [==============================] - 168s 2s/step - loss: 3.7298 - acc: 0.7664 - val_loss: 2.2646 - val_acc: 0.7500\n",
      "Epoch 29/100\n",
      "100/100 [==============================] - 171s 2s/step - loss: 3.6932 - acc: 0.7686 - val_loss: 2.0443 - val_acc: 0.7500\n",
      "Epoch 30/100\n",
      "100/100 [==============================] - 171s 2s/step - loss: 4.1279 - acc: 0.7416 - val_loss: 1.0587 - val_acc: 0.7500\n",
      "Epoch 31/100\n",
      "100/100 [==============================] - 169s 2s/step - loss: 3.6304 - acc: 0.7724 - val_loss: 2.5102 - val_acc: 0.7500\n",
      "Epoch 32/100\n",
      "100/100 [==============================] - 168s 2s/step - loss: 4.1029 - acc: 0.7426 - val_loss: 6.4765 - val_acc: 0.5000\n",
      "Epoch 33/100\n",
      "100/100 [==============================] - 168s 2s/step - loss: 4.0681 - acc: 0.7448 - val_loss: 6.4765 - val_acc: 0.5000\n",
      "Epoch 34/100\n",
      "100/100 [==============================] - 173s 2s/step - loss: 4.1136 - acc: 0.7420 - val_loss: 6.4765 - val_acc: 0.5000\n",
      "Epoch 35/100\n",
      "100/100 [==============================] - 173s 2s/step - loss: 4.0304 - acc: 0.7472 - val_loss: 6.4765 - val_acc: 0.5000\n",
      "Epoch 36/100\n",
      "100/100 [==============================] - 173s 2s/step - loss: 4.0581 - acc: 0.7455 - val_loss: 6.4765 - val_acc: 0.5000\n",
      "Epoch 37/100\n",
      "100/100 [==============================] - 173s 2s/step - loss: 3.6321 - acc: 0.7722 - val_loss: 2.6016 - val_acc: 0.5000\n",
      "Epoch 38/100\n",
      "100/100 [==============================] - 173s 2s/step - loss: 3.8161 - acc: 0.7604 - val_loss: 6.1109 - val_acc: 0.5000\n",
      "Epoch 39/100\n",
      "100/100 [==============================] - 186s 2s/step - loss: 3.9748 - acc: 0.7505 - val_loss: 7.9712 - val_acc: 0.5000\n",
      "Epoch 40/100\n",
      "100/100 [==============================] - 198s 2s/step - loss: 4.1380 - acc: 0.7404 - val_loss: 7.9712 - val_acc: 0.5000\n",
      "Epoch 41/100\n",
      "100/100 [==============================] - 186s 2s/step - loss: 3.9945 - acc: 0.7494 - val_loss: 7.9712 - val_acc: 0.5000\n",
      "Epoch 42/100\n",
      "100/100 [==============================] - 187s 2s/step - loss: 4.1320 - acc: 0.7408 - val_loss: 7.9712 - val_acc: 0.5000\n",
      "Epoch 43/100\n",
      "100/100 [==============================] - 187s 2s/step - loss: 4.1104 - acc: 0.7422 - val_loss: 7.9712 - val_acc: 0.5000\n",
      "Epoch 44/100\n",
      "100/100 [==============================] - 291s 3s/step - loss: 4.0715 - acc: 0.7446 - val_loss: 7.9712 - val_acc: 0.5000\n",
      "Epoch 45/100\n",
      "100/100 [==============================] - 188s 2s/step - loss: 4.0494 - acc: 0.7457 - val_loss: 7.9712 - val_acc: 0.5000\n",
      "Epoch 46/100\n",
      "100/100 [==============================] - 199s 2s/step - loss: 3.9607 - acc: 0.7516 - val_loss: 7.9712 - val_acc: 0.5000\n",
      "Epoch 47/100\n",
      "100/100 [==============================] - 190s 2s/step - loss: 4.2051 - acc: 0.7362 - val_loss: 7.9712 - val_acc: 0.5000\n",
      "Epoch 48/100\n",
      "100/100 [==============================] - 188s 2s/step - loss: 4.1559 - acc: 0.7393 - val_loss: 7.9712 - val_acc: 0.5000\n",
      "Epoch 49/100\n",
      "100/100 [==============================] - 197s 2s/step - loss: 4.0337 - acc: 0.7470 - val_loss: 7.9712 - val_acc: 0.5000\n",
      "Epoch 50/100\n",
      "100/100 [==============================] - 213s 2s/step - loss: 4.0990 - acc: 0.7429 - val_loss: 7.9712 - val_acc: 0.5000\n",
      "Epoch 51/100\n",
      "100/100 [==============================] - 193s 2s/step - loss: 4.1509 - acc: 0.7396 - val_loss: 7.9712 - val_acc: 0.5000\n",
      "Epoch 52/100\n",
      "100/100 [==============================] - 192s 2s/step - loss: 4.1207 - acc: 0.7415 - val_loss: 7.9712 - val_acc: 0.5000\n",
      "Epoch 53/100\n",
      "100/100 [==============================] - 198s 2s/step - loss: 4.1353 - acc: 0.7406 - val_loss: 7.9712 - val_acc: 0.5000\n",
      "Epoch 54/100\n",
      "100/100 [==============================] - 215s 2s/step - loss: 4.1011 - acc: 0.7428 - val_loss: 7.9712 - val_acc: 0.5000\n",
      "Epoch 55/100\n",
      "100/100 [==============================] - 195s 2s/step - loss: 4.0296 - acc: 0.7472 - val_loss: 7.9712 - val_acc: 0.5000\n",
      "Epoch 56/100\n",
      "100/100 [==============================] - 202s 2s/step - loss: 4.0864 - acc: 0.7437 - val_loss: 7.9712 - val_acc: 0.5000\n",
      "Epoch 57/100\n",
      "100/100 [==============================] - 197s 2s/step - loss: 4.1806 - acc: 0.7378 - val_loss: 7.9712 - val_acc: 0.5000\n",
      "Epoch 58/100\n",
      "100/100 [==============================] - 195s 2s/step - loss: 4.1011 - acc: 0.7428 - val_loss: 7.9712 - val_acc: 0.5000\n",
      "Epoch 59/100\n",
      "100/100 [==============================] - 191s 2s/step - loss: 4.0328 - acc: 0.7470 - val_loss: 7.9712 - val_acc: 0.5000\n",
      "Epoch 60/100\n",
      "100/100 [==============================] - 192s 2s/step - loss: 4.1497 - acc: 0.7397 - val_loss: 7.9712 - val_acc: 0.5000\n",
      "Epoch 61/100\n"
     ]
    },
    {
     "name": "stdout",
     "output_type": "stream",
     "text": [
      "100/100 [==============================] - 210s 2s/step - loss: 4.0524 - acc: 0.7458 - val_loss: 7.9712 - val_acc: 0.5000\n",
      "Epoch 62/100\n",
      "100/100 [==============================] - 191s 2s/step - loss: 4.0841 - acc: 0.7438 - val_loss: 7.9712 - val_acc: 0.5000\n",
      "Epoch 63/100\n",
      "100/100 [==============================] - 193s 2s/step - loss: 4.1588 - acc: 0.7391 - val_loss: 7.9712 - val_acc: 0.5000\n",
      "Epoch 64/100\n",
      "100/100 [==============================] - 190s 2s/step - loss: 4.0603 - acc: 0.7453 - val_loss: 7.9712 - val_acc: 0.5000\n",
      "Epoch 65/100\n",
      "100/100 [==============================] - 187s 2s/step - loss: 4.2125 - acc: 0.7358 - val_loss: 7.9712 - val_acc: 0.5000\n",
      "Epoch 66/100\n",
      "100/100 [==============================] - 187s 2s/step - loss: 4.0545 - acc: 0.7457 - val_loss: 7.9712 - val_acc: 0.5000\n",
      "Epoch 67/100\n",
      "100/100 [==============================] - 191s 2s/step - loss: 4.1477 - acc: 0.7398 - val_loss: 7.9712 - val_acc: 0.5000\n",
      "Epoch 68/100\n",
      "100/100 [==============================] - 193s 2s/step - loss: 4.0615 - acc: 0.7452 - val_loss: 7.9712 - val_acc: 0.5000\n",
      "Epoch 69/100\n",
      "100/100 [==============================] - 192s 2s/step - loss: 4.1031 - acc: 0.7426 - val_loss: 7.9712 - val_acc: 0.5000\n",
      "Epoch 70/100\n",
      "100/100 [==============================] - 194s 2s/step - loss: 4.1040 - acc: 0.7426 - val_loss: 7.9712 - val_acc: 0.5000\n",
      "Epoch 71/100\n",
      "100/100 [==============================] - 193s 2s/step - loss: 4.1530 - acc: 0.7395 - val_loss: 7.9712 - val_acc: 0.5000\n",
      "Epoch 72/100\n",
      "100/100 [==============================] - 198s 2s/step - loss: 4.0824 - acc: 0.7439 - val_loss: 7.9712 - val_acc: 0.5000\n",
      "Epoch 73/100\n",
      "100/100 [==============================] - 197s 2s/step - loss: 4.0334 - acc: 0.7470 - val_loss: 7.9712 - val_acc: 0.5000\n",
      "Epoch 74/100\n",
      "100/100 [==============================] - 196s 2s/step - loss: 4.0879 - acc: 0.7436 - val_loss: 7.9712 - val_acc: 0.5000\n",
      "Epoch 75/100\n",
      "100/100 [==============================] - 196s 2s/step - loss: 4.1641 - acc: 0.7388 - val_loss: 7.9712 - val_acc: 0.5000\n",
      "Epoch 76/100\n",
      "100/100 [==============================] - 186s 2s/step - loss: 4.2007 - acc: 0.7365 - val_loss: 7.9712 - val_acc: 0.5000\n",
      "Epoch 77/100\n",
      "100/100 [==============================] - 181s 2s/step - loss: 4.0571 - acc: 0.7455 - val_loss: 7.9712 - val_acc: 0.5000\n",
      "Epoch 78/100\n",
      "100/100 [==============================] - 192s 2s/step - loss: 4.0835 - acc: 0.7439 - val_loss: 7.9712 - val_acc: 0.5000\n",
      "Epoch 79/100\n",
      "100/100 [==============================] - 196s 2s/step - loss: 4.0416 - acc: 0.7465 - val_loss: 7.9712 - val_acc: 0.5000\n",
      "Epoch 80/100\n",
      "100/100 [==============================] - 194s 2s/step - loss: 4.1242 - acc: 0.7413 - val_loss: 7.9712 - val_acc: 0.5000\n",
      "Epoch 81/100\n",
      "100/100 [==============================] - 196s 2s/step - loss: 4.0923 - acc: 0.7433 - val_loss: 7.9712 - val_acc: 0.5000\n",
      "Epoch 82/100\n",
      "100/100 [==============================] - 199s 2s/step - loss: 4.0923 - acc: 0.7433 - val_loss: 7.9712 - val_acc: 0.5000\n",
      "Epoch 83/100\n",
      "100/100 [==============================] - 188s 2s/step - loss: 4.0477 - acc: 0.7461 - val_loss: 7.9712 - val_acc: 0.5000\n",
      "Epoch 84/100\n",
      "100/100 [==============================] - 185s 2s/step - loss: 4.1175 - acc: 0.7417 - val_loss: 7.9712 - val_acc: 0.5000\n",
      "Epoch 85/100\n",
      "100/100 [==============================] - 187s 2s/step - loss: 4.1178 - acc: 0.7417 - val_loss: 7.9712 - val_acc: 0.5000\n",
      "Epoch 86/100\n",
      "100/100 [==============================] - 187s 2s/step - loss: 4.0764 - acc: 0.7443 - val_loss: 7.9712 - val_acc: 0.5000\n",
      "Epoch 87/100\n",
      "100/100 [==============================] - 184s 2s/step - loss: 4.0146 - acc: 0.7482 - val_loss: 7.9712 - val_acc: 0.5000\n",
      "Epoch 88/100\n",
      "100/100 [==============================] - 196s 2s/step - loss: 4.1758 - acc: 0.7381 - val_loss: 7.9712 - val_acc: 0.5000\n",
      "Epoch 89/100\n",
      "100/100 [==============================] - 470s 5s/step - loss: 4.1442 - acc: 0.7401 - val_loss: 7.9712 - val_acc: 0.5000\n",
      "Epoch 90/100\n",
      "100/100 [==============================] - 206s 2s/step - loss: 4.0970 - acc: 0.7430 - val_loss: 7.9712 - val_acc: 0.5000\n",
      "Epoch 91/100\n",
      "100/100 [==============================] - 185s 2s/step - loss: 4.0196 - acc: 0.7479 - val_loss: 7.9712 - val_acc: 0.5000\n",
      "Epoch 92/100\n",
      "100/100 [==============================] - 187s 2s/step - loss: 4.1661 - acc: 0.7387 - val_loss: 7.9712 - val_acc: 0.5000\n",
      "Epoch 93/100\n",
      "100/100 [==============================] - 187s 2s/step - loss: 4.0407 - acc: 0.7465 - val_loss: 7.9712 - val_acc: 0.5000\n",
      "Epoch 94/100\n",
      "100/100 [==============================] - 196s 2s/step - loss: 4.0973 - acc: 0.7430 - val_loss: 7.9712 - val_acc: 0.5000\n",
      "Epoch 95/100\n",
      "100/100 [==============================] - 185s 2s/step - loss: 4.0663 - acc: 0.7449 - val_loss: 7.9712 - val_acc: 0.5000\n",
      "Epoch 96/100\n",
      "100/100 [==============================] - 183s 2s/step - loss: 4.1383 - acc: 0.7404 - val_loss: 7.9712 - val_acc: 0.5000\n",
      "Epoch 97/100\n",
      "100/100 [==============================] - 185s 2s/step - loss: 4.1383 - acc: 0.7404 - val_loss: 7.9712 - val_acc: 0.5000\n",
      "Epoch 98/100\n",
      "100/100 [==============================] - 183s 2s/step - loss: 4.0307 - acc: 0.7472 - val_loss: 7.9712 - val_acc: 0.5000\n",
      "Epoch 99/100\n",
      "100/100 [==============================] - 184s 2s/step - loss: 4.0445 - acc: 0.7463 - val_loss: 7.9712 - val_acc: 0.5000\n",
      "Epoch 100/100\n",
      "100/100 [==============================] - 185s 2s/step - loss: 4.1246 - acc: 0.7413 - val_loss: 7.9712 - val_acc: 0.5000\n"
     ]
    }
   ],
   "source": [
    "train_datagen = ImageDataGenerator(rotation_range=40, \n",
    "                                   width_shift_range=0.2, \n",
    "                                   height_shift_range=0.2, \n",
    "                                   shear_range=0.2, \n",
    "                                   zoom_range=0.2, \n",
    "                                   horizontal_flip=True, \n",
    "                                   fill_mode='nearest')\n",
    "\n",
    "test_datagen = ImageDataGenerator(rescale=1./255)\n",
    "\n",
    "train_generator = train_datagen.flow_from_directory(      \n",
    "        train_dir,\n",
    "        target_size=(150, 150),\n",
    "        batch_size=32,\n",
    "        class_mode='binary')\n",
    "\n",
    "validation_generator = test_datagen.flow_from_directory(validation_dir, \n",
    "                                                        target_size=(150, 150), \n",
    "                                                        batch_size=32, \n",
    "                                                        class_mode='binary')\n",
    "\n",
    "history = model.fit_generator(train_generator, \n",
    "                              steps_per_epoch=100, \n",
    "                              epochs=100, \n",
    "                              validation_data=validation_generator, \n",
    "                              validation_steps=50)"
   ]
  },
  {
   "cell_type": "code",
   "execution_count": 10,
   "metadata": {},
   "outputs": [
    {
     "data": {
      "image/png": "[encoded data removed]",
      "text/plain": [
       "<Figure size 432x288 with 1 Axes>"
      ]
     },
     "metadata": {
      "needs_background": "light"
     },
     "output_type": "display_data"
    },
    {
     "data": {
      "image/png": "[encoded data removed]",
      "text/plain": [
       "<Figure size 432x288 with 1 Axes>"
      ]
     },
     "metadata": {
      "needs_background": "light"
     },
     "output_type": "display_data"
    }
   ],
   "source": [
    "acc = history.history['acc']\n",
    "val_acc = history.history['val_acc']\n",
    "loss = history.history['loss']\n",
    "val_loss = history.history['val_loss']\n",
    "epochs = range(len(acc))\n",
    "plt.plot(epochs, acc, 'bo', label='Training acc')\n",
    "plt.plot(epochs, val_acc, 'b', label='Validation acc')\n",
    "plt.title('Training and validation accuracy')\n",
    "plt.legend()\n",
    "plt.figure()\n",
    "plt.plot(epochs, loss, 'bo', label='Training loss')\n",
    "plt.plot(epochs, val_loss, 'b', label='Validation loss')\n",
    "plt.title('Training and validation loss')\n",
    "plt.legend()\n",
    "plt.show()"
   ]
  },
  {
   "cell_type": "markdown",
   "metadata": {},
   "source": [
    "## Final Evaluation\n",
    "\n",
    "Now use the test set to perform a final evaluation on your model of choice. "
   ]
  },
  {
   "cell_type": "code",
   "execution_count": 11,
   "metadata": {},
   "outputs": [
    {
     "name": "stdout",
     "output_type": "stream",
     "text": [
      "Found 208 images belonging to 2 classes.\n",
      "test acc: 0.6271008395848154\n"
     ]
    }
   ],
   "source": [
    "test_generator = test_datagen.flow_from_directory(test_dir, \n",
    "                                                  target_size=(150, 150), \n",
    "                                                  batch_size=20, \n",
    "                                                  class_mode='binary')\n",
    "test_loss, test_acc = model.evaluate_generator(test_generator, steps=50)\n",
    "print('test acc:', test_acc)"
   ]
  },
  {
   "cell_type": "markdown",
   "metadata": {},
   "source": [
    "## Summary\n",
    "\n",
    "Well done! In this lab, you practice building your own CNN for image recognition which drastically outperformed our previous attempts using a standard deep learning model alone. In the upcoming sections, we'll continue to investigate further techniques associated with CNNs including visualizing the representations they learn and techniques to further bolster their performance when we have limited training data such as here."
   ]
  }
 ],
 "metadata": {
  "kernelspec": {
   "display_name": "Python 3",
   "language": "python",
   "name": "python3"
  },
  "language_info": {
   "codemirror_mode": {
    "name": "ipython",
    "version": 3
   },
   "file_extension": ".py",
   "mimetype": "text/x-python",
   "name": "python",
   "nbconvert_exporter": "python",
   "pygments_lexer": "ipython3",
   "version": "3.6.6"
  },
  "toc": {
   "base_numbering": 1,
   "nav_menu": {},
   "number_sections": true,
   "sideBar": true,
   "skip_h1_title": false,
   "title_cell": "Table of Contents",
   "title_sidebar": "Contents",
   "toc_cell": false,
   "toc_position": {},
   "toc_section_display": true,
   "toc_window_display": false
  }
 },
 "nbformat": 4,
 "nbformat_minor": 2
}
